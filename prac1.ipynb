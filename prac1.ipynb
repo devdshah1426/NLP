{
 "cells": [
  {
   "cell_type": "code",
   "execution_count": 4,
   "metadata": {},
   "outputs": [],
   "source": [
    "sentence = \"  Hello world this is the king of programmming   the programing king Dev Dev Shah, He is working in montezuma.ai firm   \""
   ]
  },
  {
   "cell_type": "code",
   "execution_count": 5,
   "metadata": {},
   "outputs": [
    {
     "name": "stdout",
     "output_type": "stream",
     "text": [
      "Hello world this is the king of programmming   the programing king Dev Dev Shah, He is working in montezuma.ai firm\n"
     ]
    }
   ],
   "source": [
    "print(sentence.strip())"
   ]
  },
  {
   "cell_type": "code",
   "execution_count": 6,
   "metadata": {},
   "outputs": [
    {
     "name": "stdout",
     "output_type": "stream",
     "text": [
      "  hello world this is the king of programmming   the programing king dev dev shah, he is working in montezuma.ai firm   \n"
     ]
    }
   ],
   "source": [
    "print(sentence.lower())"
   ]
  },
  {
   "cell_type": "code",
   "execution_count": 10,
   "metadata": {},
   "outputs": [],
   "source": [
    "import nltk \n",
    "from nltk.corpus import stopwords\n",
    "from nltk.tokenize import word_tokenize\n",
    "from nltk.stem import PorterStemmer\n",
    "from nltk.stem import WordNetLemmatizer\n",
    "from nltk.corpus import stopwords\n",
    "from string  import punctuation"
   ]
  },
  {
   "cell_type": "code",
   "execution_count": 11,
   "metadata": {},
   "outputs": [
    {
     "name": "stdout",
     "output_type": "stream",
     "text": [
      "This is a tokenize sentence ['Hello', 'world', 'this', 'is', 'the', 'king', 'of', 'programmming', 'the', 'programing', 'king', 'Dev', 'Dev', 'Shah', ',', 'He', 'is', 'working', 'in', 'montezuma.ai', 'firm']\n",
      "The vocab for the given sentence is  [',', 'Dev', 'He', 'Hello', 'Shah', 'firm', 'in', 'is', 'king', 'montezuma.ai', 'of', 'programing', 'programmming', 'the', 'this', 'working', 'world']\n",
      "The vocab without stopwords is  [',', 'Dev', 'He', 'Hello', 'Shah', 'firm', 'king', 'montezuma.ai', 'programing', 'programmming', 'working', 'world']\n",
      "The vocab without punctuations is  ['Dev', 'He', 'Hello', 'Shah', 'firm', 'king', 'montezuma.ai', 'programing', 'programmming', 'working', 'world']\n"
     ]
    }
   ],
   "source": [
    "from nltk.corpus import stopwords\n",
    "import string\n",
    "token  = word_tokenize(sentence)\n",
    "print(\"This is a tokenize sentence\",token)\n",
    "print(\"The vocab for the given sentence is \",sorted(set(token)))\n",
    "\n",
    "vocab = sorted(set(token))\n",
    "vocab_wo_stopwords = []\n",
    "for word in vocab:\n",
    "    if word not in stopwords.words('english'):\n",
    "        vocab_wo_stopwords.append(word)\n",
    "print(\"The vocab without stopwords is \", vocab_wo_stopwords)\n",
    "\n",
    "vocab_wo_punct = []\n",
    "for wordd in vocab_wo_stopwords:\n",
    "    if wordd not in string.punctuation:\n",
    "        vocab_wo_punct.append(wordd)\n",
    "print(\"The vocab without punctuations is \", vocab_wo_punct)"
   ]
  },
  {
   "cell_type": "code",
   "execution_count": 12,
   "metadata": {},
   "outputs": [
    {
     "name": "stdout",
     "output_type": "stream",
     "text": [
      "python\n",
      "python\n",
      "python\n",
      "python\n",
      "pythonli\n"
     ]
    }
   ],
   "source": [
    "# Stemming \n",
    "from nltk.stem import PorterStemmer\n",
    "from nltk.tokenize import word_tokenize\n",
    "\n",
    "ps = PorterStemmer()\n",
    "example_words = [\"python\", \"pythoner\", \"pythoning\", \"pythoned\", \"pythonly\"]\n",
    "for w in example_words:\n",
    "    print(ps.stem(w))\n",
    "    "
   ]
  },
  {
   "cell_type": "code",
   "execution_count": 25,
   "metadata": {},
   "outputs": [
    {
     "name": "stdout",
     "output_type": "stream",
     "text": [
      "cat\n",
      "trouble\n",
      "troubling\n",
      "troubled\n",
      "having\n",
      "Corriendo\n",
      "at\n",
      "wa\n",
      "dog\n",
      "cat\n"
     ]
    }
   ],
   "source": [
    "# Lemmatization\n",
    "# Lemmatization is the process of converting a word to its base form. It removes inflectional endings and returns the base form of the word.\n",
    "from nltk.stem import WordNetLemmatizer\n",
    "lemmatizer = WordNetLemmatizer()\n",
    "for i in [\"cats\",\"trouble\",\"troubling\",\"troubled\",\"having\",\"Corriendo\",\"at\",\"was\",\"dogs\",\"cat\"]:\n",
    "    print(lemmatizer.lemmatize(i))\n",
    "    "
   ]
  },
  {
   "cell_type": "code",
   "execution_count": 43,
   "metadata": {},
   "outputs": [
    {
     "name": "stdout",
     "output_type": "stream",
     "text": [
      "[('Hello', 'world'), ('world', 'this'), ('this', 'is'), ('is', 'the'), ('the', 'king'), ('king', 'of'), ('of', 'programmming'), ('programmming', 'the'), ('the', 'programing'), ('programing', 'king'), ('king', 'Dev'), ('Dev', 'Dev'), ('Dev', 'Shah,'), ('Shah,', 'He'), ('He', 'is'), ('is', 'working'), ('working', 'in'), ('in', 'montezuma.ai'), ('montezuma.ai', 'firm')]\n"
     ]
    }
   ],
   "source": [
    "from nltk import bigrams\n",
    "\n",
    "bi_gram = list(bigrams(sentence.split()))\n",
    "print(bi_gram)"
   ]
  },
  {
   "cell_type": "code",
   "execution_count": 44,
   "metadata": {},
   "outputs": [
    {
     "name": "stdout",
     "output_type": "stream",
     "text": [
      "[('Hello', 'NNP'), ('world', 'NN'), ('this', 'DT'), ('is', 'VBZ'), ('the', 'DT'), ('king', 'NN'), ('of', 'IN'), ('programmming', 'VBG'), ('the', 'DT'), ('programing', 'VBG'), ('king', 'NN'), ('Dev', 'NNP'), ('Dev', 'NNP'), ('Shah', 'NNP'), (',', ','), ('He', 'PRP'), ('is', 'VBZ'), ('working', 'VBG'), ('in', 'IN'), ('montezuma.ai', 'JJ'), ('firm', 'NN')]\n"
     ]
    }
   ],
   "source": [
    "from nltk import pos_tag\n",
    "\n",
    "pos = pos_tag(token)\n",
    "print(pos)"
   ]
  },
  {
   "cell_type": "code",
   "execution_count": 51,
   "metadata": {},
   "outputs": [
    {
     "name": "stdout",
     "output_type": "stream",
     "text": [
      "Minimum edit distance between 'INTENTION' and 'EXECUTION' is: 8\n"
     ]
    }
   ],
   "source": [
    "#Minimum Edit distance \n",
    "def min_edit_distance(word1, word2):\n",
    "    m = len(word1)\n",
    "    n = len(word2)\n",
    "    \n",
    "    # Create a matrix to store the minimum edit distances\n",
    "    dp = [[0] * (n + 1) for _ in range(m + 1)]\n",
    "    \n",
    "    # Initialize the matrix with base cases\n",
    "    for i in range(m + 1):\n",
    "        dp[i][0] = i\n",
    "    for j in range(n + 1):\n",
    "        dp[0][j] = j\n",
    "    \n",
    "    # Fill the matrix using dynamic programming\n",
    "    for i in range(1, m + 1):\n",
    "        for j in range(1, n + 1):\n",
    "            if word1[i - 1] == word2[j - 1]:\n",
    "                dp[i][j] = dp[i - 1][j - 1]  # no operation needed\n",
    "            else:\n",
    "                dp[i][j] = min(dp[i - 1][j - 1] + 2,  # substitution\n",
    "                               dp[i - 1][j] + 1,      # deletion\n",
    "                               dp[i][j - 1] + 1)      # insertion\n",
    "    \n",
    "    # The minimum edit distance is the value at the bottom-right corner of the matrix\n",
    "    return dp[m][n]\n",
    "\n",
    "# Example usage:\n",
    "word1 = \"INTENTION\"\n",
    "word2 = \"EXECUTION\"\n",
    "print(\"Minimum edit distance between '{}' and '{}' is: {}\".format(word1, word2, min_edit_distance(word1, word2)))\n"
   ]
  },
  {
   "cell_type": "code",
   "execution_count": 1,
   "metadata": {},
   "outputs": [
    {
     "data": {
      "image/png": "[encoded data removed]",
      "text/plain": [
       "<Figure size 1000x600 with 1 Axes>"
      ]
     },
     "metadata": {},
     "output_type": "display_data"
    },
    {
     "data": {
      "image/png": "[encoded data removed]",
      "text/plain": [
       "<Figure size 1000x600 with 1 Axes>"
      ]
     },
     "metadata": {},
     "output_type": "display_data"
    }
   ],
   "source": [
    "# Practical 4\n",
    "# Zifp's law\n",
    "import nltk\n",
    "from nltk.tokenize import word_tokenize\n",
    "import matplotlib.pyplot as plt\n",
    "import numpy as np\n",
    "\n",
    "def zipf_law(corpus):\n",
    "    tokens = word_tokenize(corpus)\n",
    "    freq_dist = nltk.FreqDist(tokens)\n",
    "    ranks = list(range(1, len(freq_dist)+1))\n",
    "    freqs = [freq_dist[word] for word in freq_dist]\n",
    "    freqs_sorted = sorted(freqs, reverse=True)\n",
    "    plt.figure(figsize=(10, 6))\n",
    "    plt.plot(ranks, freqs_sorted, marker='o', linestyle='-', color='b')\n",
    "    plt.title(\"Zipf's Law\")\n",
    "    plt.xlabel('Rank')\n",
    "    plt.ylabel('Frequency')\n",
    "    plt.xscale('log')\n",
    "    plt.yscale('log')\n",
    "    plt.show()\n",
    "\n",
    "def heaps_law(corpus):\n",
    "    tokens = word_tokenize(corpus)\n",
    "    vocab = set()\n",
    "    vocab_size = []\n",
    "    corpus_size = []\n",
    "    for i, token in enumerate(tokens):\n",
    "        vocab.add(token)\n",
    "        vocab_size.append(len(vocab))\n",
    "        corpus_size.append(i+1)\n",
    "    plt.figure(figsize=(10, 6))\n",
    "    plt.plot(corpus_size, vocab_size, color='r')\n",
    "    plt.title(\"Heap's Law\")\n",
    "    plt.xlabel('Corpus Size')\n",
    "    plt.ylabel('Vocabulary Size')\n",
    "    plt.show()\n",
    "\n",
    "# Sample text corpus\n",
    "corpus = \"Hello world this is Dev Shah starting his studies for the NLP LAB exam today at 444\"\n",
    "\n",
    "zipf_law(corpus)\n",
    "heaps_law(corpus)\n"
   ]
  },
  {
   "cell_type": "code",
   "execution_count": 7,
   "metadata": {},
   "outputs": [
    {
     "name": "stdout",
     "output_type": "stream",
     "text": [
      "Similarity Matrix:\n",
      "[[1.   0.75 0.  ]\n",
      " [0.75 1.   0.  ]\n",
      " [0.   0.   1.  ]]\n"
     ]
    }
   ],
   "source": [
    "import numpy as np\n",
    "from sklearn.feature_extraction.text import CountVectorizer, TfidfVectorizer\n",
    "from sklearn.metrics.pairwise import cosine_similarity\n",
    "\n",
    "def get_relation_matrix(documents, technique):\n",
    "    if technique == \"binary\":\n",
    "        vectorizer = CountVectorizer(binary=True)\n",
    "    elif technique == \"tf\":\n",
    "        vectorizer = CountVectorizer()\n",
    "    elif technique == \"tf-idf\":\n",
    "        vectorizer = TfidfVectorizer()\n",
    "    else:\n",
    "        raise ValueError(\"Invalid technique. Choose from 'binary', 'tf', or 'tf-idf'.\")\n",
    "\n",
    "    matrix = vectorizer.fit_transform(documents).toarray()\n",
    "    return matrix\n",
    "\n",
    "# Define the documents\n",
    "documents = [\n",
    "    \"NLP is a theoretical subject\",\n",
    "    \"NLP is interesting subject\",\n",
    "    \"Solve the given problem\"\n",
    "]\n",
    "\n",
    "# Allow the user to choose the bag-of-words technique\n",
    "technique = input(\"Choose the bag-of-words technique (binary, tf, or tf-idf): \")\n",
    "\n",
    "# Get the relation matrix\n",
    "relation_matrix = get_relation_matrix(documents, technique)\n",
    "\n",
    "# Compute the document similarity\n",
    "similarity_matrix = cosine_similarity(relation_matrix)\n",
    "\n",
    "# Display the similarity matrix\n",
    "print(\"Similarity Matrix:\")\n",
    "print(similarity_matrix)\n"
   ]
  },
  {
   "cell_type": "code",
   "execution_count": null,
   "metadata": {},
   "outputs": [],
   "source": [
    "from textblob import TextBlob\n",
    "\n",
    "\n",
    "data = 'I cannot help you with your homework as I would be late.'\n",
    "\n",
    "\n",
    "def sentiment(data):\n",
    "        blob = TextBlob(data)\n",
    "        sentiment_op = blob.sentiment.polarity\n",
    "        \n",
    "        if sentiment_op >= 0.05:\n",
    "            sentiment = 'Positive'\n",
    "        elif sentiment_op <= -0.05:\n",
    "            sentiment = 'Negative'\n",
    "        else:\n",
    "            sentiment = 'Neutral'\n",
    "\n",
    "        print('The Sentimennt of text = ',sentiment)\n",
    "        return sentiment\n",
    "\n",
    "sentiment(data)"
   ]
  },
  {
   "cell_type": "code",
   "execution_count": null,
   "metadata": {},
   "outputs": [],
   "source": [
    "\n",
    "import string\n",
    "import re\n",
    "import nltk\n",
    "from nltk.corpus import stopwords\n",
    "from nltk.stem import PorterStemmer \n",
    "from nltk.stem import WordNetLemmatizer\n",
    "\n",
    "nltk.download('punkt')\n",
    "nltk.download('wordnet')\n",
    "nltk.download('stopwords')\n",
    "\n",
    "\n",
    "\n",
    "data = \"Virat Kohli is an Indian international cricketer and the former captain of the Indian national cricket team. He is a right-handed batsman and an occasional medium-fast bowler.\"\n",
    "\n",
    "\n",
    "\n",
    "class preprocess():\n",
    "\n",
    "    def __init__(self) -> None:\n",
    "        pass\n",
    "\n",
    "    def punctuation(self,data):\n",
    "        res = re.sub(r'[^\\w\\s]','',data)\n",
    "        print('Text with removed punctuation = ',res)\n",
    "        return res\n",
    "    \n",
    "    def lowercasing(self,data):\n",
    "        res = data.lower()\n",
    "        print('The Text after lowercasing = ',res)\n",
    "        return res\n",
    "\n",
    "    def tokenize(self,data):\n",
    "        res = nltk.word_tokenize(data)\n",
    "        print('The Text after Tokenizing = ',res)\n",
    "        return res\n",
    "    \n",
    "    def stopwords(self,data):\n",
    "        res = []\n",
    "        stop_words = set(stopwords.words('english'))\n",
    "        for w in data:\n",
    "            if w not in stop_words:\n",
    "                res.append(w)\n",
    "        print('The text after removing stopwords',res)\n",
    "        return res\n",
    "\n",
    "    def stemmer(self,data):\n",
    "        res = []\n",
    "        stemmer = PorterStemmer()\n",
    "        for w in data:\n",
    "            res.append(stemmer.stem(w))\n",
    "        print('The text after Stemming',res)\n",
    "        return res\n",
    "    \n",
    "    def limitizer(self,data):\n",
    "        lemmatizer = WordNetLemmatizer()\n",
    "        res = []\n",
    "        for w in data:\n",
    "            res.append(lemmatizer.lemmatize(w))\n",
    "        print('The text after Lemetizing',res)\n",
    "\n",
    "        return res\n",
    "\n",
    "\n",
    "if __name__ == \"__main__\":\n",
    "    demo = preprocess()\n",
    "    punctuation = demo.punctuation(data)\n",
    "    lowercase = demo.lowercasing(punctuation)\n",
    "    Tokenize = demo.tokenize(lowercase)\n",
    "    Stopwords = demo.stopwords(Tokenize)\n",
    "    Stemming = demo.stemmer(Stopwords)\n",
    "    Lemetizer = demo.limitizer(Stopwords)\n",
    "\n",
    "\n",
    "\n",
    "\n",
    "\n"
   ]
  }
 ],
 "metadata": {
  "kernelspec": {
   "display_name": "Python 3",
   "language": "python",
   "name": "python3"
  },
  "language_info": {
   "codemirror_mode": {
    "name": "ipython",
    "version": 3
   },
   "file_extension": ".py",
   "mimetype": "text/x-python",
   "name": "python",
   "nbconvert_exporter": "python",
   "pygments_lexer": "ipython3",
   "version": "3.11.3"
  }
 },
 "nbformat": 4,
 "nbformat_minor": 2
}
